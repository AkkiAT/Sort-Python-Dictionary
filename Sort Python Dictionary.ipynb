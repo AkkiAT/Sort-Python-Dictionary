{
 "cells": [
  {
   "cell_type": "code",
   "execution_count": 3,
   "metadata": {},
   "outputs": [
    {
     "name": "stdout",
     "output_type": "stream",
     "text": [
      "Sorted by keys:\n",
      "apple: 3\n",
      "banana: 1\n",
      "cherry: 2\n",
      "date: 4\n"
     ]
    }
   ],
   "source": [
    "#Sort Python Dictionaries by Key or value\n",
    "#Sort by Keys:\n",
    "sample_dict = {'apple': 3, 'banana': 1, 'cherry': 2, 'date': 4}\n",
    "sorted_dict_by_keys = dict(sorted(sample_dict.items()))\n",
    "\n",
    "print(\"Sorted by keys:\")\n",
    "for key, value in sorted_dict_by_keys.items():\n",
    "    print(f\"{key}: {value}\")"
   ]
  }
 ],
 "metadata": {
  "kernelspec": {
   "display_name": ".venv",
   "language": "python",
   "name": "python3"
  },
  "language_info": {
   "codemirror_mode": {
    "name": "ipython",
    "version": 3
   },
   "file_extension": ".py",
   "mimetype": "text/x-python",
   "name": "python",
   "nbconvert_exporter": "python",
   "pygments_lexer": "ipython3",
   "version": "3.12.2"
  }
 },
 "nbformat": 4,
 "nbformat_minor": 2
}
